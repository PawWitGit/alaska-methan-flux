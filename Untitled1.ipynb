{
 "cells": [
  {
   "cell_type": "code",
   "execution_count": 1,
   "id": "55970aab",
   "metadata": {},
   "outputs": [],
   "source": [
    "import pandas as pd\n"
   ]
  },
  {
   "cell_type": "code",
   "execution_count": 2,
   "id": "f6d89447",
   "metadata": {},
   "outputs": [],
   "source": [
    "import numpy as np"
   ]
  },
  {
   "cell_type": "code",
   "execution_count": 3,
   "id": "287995f4",
   "metadata": {},
   "outputs": [],
   "source": [
    "df = pd.read_csv(\"CH4_Flux_BigTrail_Goldstream_AK.csv\")"
   ]
  },
  {
   "cell_type": "code",
   "execution_count": 4,
   "id": "41340b81",
   "metadata": {},
   "outputs": [
    {
     "name": "stdout",
     "output_type": "stream",
     "text": [
      "     plot_id lake_id   latitude   longitude        date  methane  flux_error  \\\n",
      "0          1     BTL  64.918932 -147.821570  2018-07-21   0.5004      0.0288   \n",
      "1          2     BTL  64.918917 -147.821600  2018-07-21   0.9305      0.0529   \n",
      "2          3     BTL  64.918896 -147.821546  2018-07-21   1.5023      0.0892   \n",
      "3          4     BTL  64.918912 -147.821453  2018-07-21   0.1884      0.0122   \n",
      "4          5     BTL  64.918889 -147.821389  2018-07-21   0.1751      0.0093   \n",
      "..       ...     ...        ...         ...         ...      ...         ...   \n",
      "195      196     GSL  64.915340 -147.850100  2018-07-29   1.3512      0.0793   \n",
      "196      197     GSL  64.915320 -147.850120  2018-07-29  -0.1639      0.0125   \n",
      "197      198     GSL  64.915310 -147.850200  2018-07-29  -0.0717      0.0043   \n",
      "198      199     GSL  64.915289 -147.850202  2018-07-29  -0.0062      0.0005   \n",
      "199      200     GSL  64.915257 -147.850236  2018-07-29  -0.0082      0.0006   \n",
      "\n",
      "     distance_from_water  distance_error  \n",
      "0                    0.0             0.0  \n",
      "1                    0.0             0.0  \n",
      "2                    3.9             1.5  \n",
      "3                    2.7             1.5  \n",
      "4                   10.9             1.5  \n",
      "..                   ...             ...  \n",
      "195                  6.7             1.5  \n",
      "196                  9.1             1.5  \n",
      "197                 12.6             1.5  \n",
      "198                 14.3             1.5  \n",
      "199                 18.1             1.5  \n",
      "\n",
      "[200 rows x 9 columns]\n"
     ]
    }
   ],
   "source": [
    "print(df\n",
    "     )"
   ]
  },
  {
   "cell_type": "code",
   "execution_count": 5,
   "id": "743085da",
   "metadata": {},
   "outputs": [
    {
     "name": "stdout",
     "output_type": "stream",
     "text": [
      "33.523\n"
     ]
    }
   ],
   "source": [
    "print(df[\"methane\"].max())"
   ]
  },
  {
   "cell_type": "code",
   "execution_count": 6,
   "id": "20e9e26a",
   "metadata": {},
   "outputs": [
    {
     "name": "stdout",
     "output_type": "stream",
     "text": [
      "methane        33.523\n",
      "date       2018-07-29\n",
      "dtype: object\n"
     ]
    }
   ],
   "source": [
    "print(df[[\"methane\", \"date\"]].max())"
   ]
  },
  {
   "cell_type": "code",
   "execution_count": null,
   "id": "5bb2e441",
   "metadata": {},
   "outputs": [],
   "source": []
  }
 ],
 "metadata": {
  "kernelspec": {
   "display_name": "Python 3 (ipykernel)",
   "language": "python",
   "name": "python3"
  },
  "language_info": {
   "codemirror_mode": {
    "name": "ipython",
    "version": 3
   },
   "file_extension": ".py",
   "mimetype": "text/x-python",
   "name": "python",
   "nbconvert_exporter": "python",
   "pygments_lexer": "ipython3",
   "version": "3.8.8"
  }
 },
 "nbformat": 4,
 "nbformat_minor": 5
}
